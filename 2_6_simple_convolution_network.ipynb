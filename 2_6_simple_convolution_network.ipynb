{
 "cells": [
  {
   "cell_type": "markdown",
   "metadata": {
    "colab_type": "text",
    "id": "8cNl2QA_Rnv5"
   },
   "source": [
    "# 準備"
   ]
  },
  {
   "cell_type": "markdown",
   "metadata": {
    "colab_type": "text",
    "id": "3Ub7RYdeY6pK"
   },
   "source": [
    "## sys.pathの設定"
   ]
  },
  {
   "cell_type": "markdown",
   "metadata": {
    "colab_type": "text",
    "id": "oql7L19rEsWi"
   },
   "source": [
    "以下では，Googleドライブのマイドライブ直下にDNN_codeフォルダを置くことを仮定しています．必要に応じて，パスを変更してください．"
   ]
  },
  {
   "cell_type": "code",
   "execution_count": 1,
   "metadata": {
    "colab": {},
    "colab_type": "code",
    "id": "7Ic2JzkvFX59"
   },
   "outputs": [],
   "source": [
    "import sys\n",
    "sys.path.append('../common')\n",
    "sys.path.append('../data')"
   ]
  },
  {
   "cell_type": "markdown",
   "metadata": {
    "colab_type": "text",
    "id": "77mUsKgs41aZ"
   },
   "source": [
    "# simple convolution network"
   ]
  },
  {
   "cell_type": "markdown",
   "metadata": {
    "colab_type": "text",
    "id": "CZDjmllG41aa"
   },
   "source": [
    "## image to column"
   ]
  },
  {
   "cell_type": "code",
   "execution_count": 2,
   "metadata": {
    "colab": {},
    "colab_type": "code",
    "id": "GFbg8ow141ab"
   },
   "outputs": [],
   "source": [
    "import pickle\n",
    "import numpy as np\n",
    "import layers\n",
    "from collections import OrderedDict\n",
    "from mnist import load_mnist\n",
    "import matplotlib.pyplot as plt\n",
    "import optimizer\n",
    "\n",
    "# 画像データを２次元配列に変換\n",
    "'''\n",
    "input_data: 入力値\n",
    "filter_h: フィルターの高さ\n",
    "filter_w: フィルターの横幅\n",
    "stride: ストライド\n",
    "pad: パディング\n",
    "'''\n",
    "def im2col(input_data, filter_h, filter_w, stride=1, pad=0):\n",
    "    # N: number, C: channel, H: height, W: width\n",
    "    N, C, H, W = input_data.shape\n",
    "    out_h = (H + 2 * pad - filter_h)//stride + 1\n",
    "    out_w = (W + 2 * pad - filter_w)//stride + 1\n",
    "\n",
    "    img = np.pad(input_data, [(0,0), (0,0), (pad, pad), (pad, pad)], 'constant')\n",
    "    col = np.zeros((N, C, filter_h, filter_w, out_h, out_w))\n",
    "\n",
    "    for y in range(filter_h):\n",
    "        y_max = y + stride * out_h\n",
    "        for x in range(filter_w):\n",
    "            x_max = x + stride * out_w\n",
    "            col[:, :, y, x, :, :] = img[:, :, y:y_max:stride, x:x_max:stride]\n",
    "    \n",
    "    #col = col.transpose(0, 4, 5, 1, 2, 3) # (N, C, filter_h, filter_w, out_h, out_w) -> (N, filter_w, out_h, out_w, C, filter_h)    \n",
    "    \n",
    "    col = col.reshape(N * out_h * out_w, -1)\n",
    "    return col"
   ]
  },
  {
   "cell_type": "markdown",
   "metadata": {
    "colab_type": "text",
    "id": "aahFoRM941ae"
   },
   "source": [
    "----------------------------------------------------------------------------------------------------------------------------------------------------------------------------\n",
    "## [try] im2colの処理を確認しよう\n",
    "・関数内でtransposeの処理をしている行をコメントアウトして下のコードを実行してみよう<br>\n",
    "・input_dataの各次元のサイズやフィルターサイズ・ストライド・パディングを変えてみよう\n",
    "\n",
    "----------------------------------------------------------------------------------------------------------------------------------------------------------------------------"
   ]
  },
  {
   "cell_type": "code",
   "execution_count": 3,
   "metadata": {
    "colab": {
     "base_uri": "https://localhost:8080/",
     "height": 391
    },
    "colab_type": "code",
    "executionInfo": {
     "elapsed": 1062,
     "status": "ok",
     "timestamp": 1567225134567,
     "user": {
      "displayName": "Fumitaro GOTO",
      "photoUrl": "https://lh3.googleusercontent.com/a-/AAuE7mAubrhEDJVP-rnoha-qvz9ByB1M60D47F3l4Mpr=s64",
      "userId": "04811870787810218771"
     },
     "user_tz": -540
    },
    "id": "Vd5NPF_641af",
    "outputId": "6314f684-612c-409b-e71c-4e4cc6ad23c1"
   },
   "outputs": [
    {
     "name": "stdout",
     "output_type": "stream",
     "text": [
      "========== input_data ===========\n",
      " [[[[91.  2. 16. 53.]\n",
      "   [16. 47. 44. 59.]\n",
      "   [74. 15. 59. 22.]\n",
      "   [26. 12. 88. 97.]]]\n",
      "\n",
      "\n",
      " [[[27. 10. 44. 91.]\n",
      "   [89. 63. 76. 70.]\n",
      "   [86. 94. 28. 32.]\n",
      "   [ 9. 36. 97.  3.]]]]\n",
      "==============================\n",
      "============= col ==============\n",
      " [[ 0.  0.  0.  0.]\n",
      " [ 0.  0. 91.  2.]\n",
      " [16. 53.  0. 16.]\n",
      " [47. 44. 59.  0.]\n",
      " [74. 15. 59. 22.]\n",
      " [ 0. 26. 12. 88.]\n",
      " [97.  0.  0.  0.]\n",
      " [ 0.  0. 91.  2.]\n",
      " [16. 53.  0. 16.]\n",
      " [47. 44. 59.  0.]\n",
      " [74. 15. 59. 22.]\n",
      " [ 0. 26. 12. 88.]\n",
      " [97.  0.  0. 91.]\n",
      " [ 2. 16. 53.  0.]\n",
      " [16. 47. 44. 59.]\n",
      " [ 0. 74. 15. 59.]\n",
      " [22.  0. 26. 12.]\n",
      " [88. 97.  0.  0.]\n",
      " [ 0.  0.  0. 91.]\n",
      " [ 2. 16. 53.  0.]\n",
      " [16. 47. 44. 59.]\n",
      " [ 0. 74. 15. 59.]\n",
      " [22.  0. 26. 12.]\n",
      " [88. 97.  0.  0.]\n",
      " [ 0.  0.  0.  0.]\n",
      " [ 0.  0.  0.  0.]\n",
      " [ 0.  0. 27. 10.]\n",
      " [44. 91.  0. 89.]\n",
      " [63. 76. 70.  0.]\n",
      " [86. 94. 28. 32.]\n",
      " [ 0.  9. 36. 97.]\n",
      " [ 3.  0.  0.  0.]\n",
      " [ 0.  0. 27. 10.]\n",
      " [44. 91.  0. 89.]\n",
      " [63. 76. 70.  0.]\n",
      " [86. 94. 28. 32.]\n",
      " [ 0.  9. 36. 97.]\n",
      " [ 3.  0.  0. 27.]\n",
      " [10. 44. 91.  0.]\n",
      " [89. 63. 76. 70.]\n",
      " [ 0. 86. 94. 28.]\n",
      " [32.  0.  9. 36.]\n",
      " [97.  3.  0.  0.]\n",
      " [ 0.  0.  0. 27.]\n",
      " [10. 44. 91.  0.]\n",
      " [89. 63. 76. 70.]\n",
      " [ 0. 86. 94. 28.]\n",
      " [32.  0.  9. 36.]\n",
      " [97.  3.  0.  0.]\n",
      " [ 0.  0.  0.  0.]]\n",
      "==============================\n"
     ]
    }
   ],
   "source": [
    "# im2colの処理確認\n",
    "input_data = np.random.rand(2, 1, 4, 4)*100//1 # number, channel, height, widthを表す\n",
    "print('========== input_data ===========\\n', input_data)\n",
    "print('==============================')\n",
    "filter_h = 2\n",
    "filter_w = 2\n",
    "stride = 1\n",
    "pad = 1\n",
    "col = im2col(input_data, filter_h=filter_h, filter_w=filter_w, stride=stride, pad=pad)\n",
    "print('============= col ==============\\n', col)\n",
    "print('==============================')"
   ]
  },
  {
   "cell_type": "markdown",
   "metadata": {
    "colab_type": "text",
    "id": "azeUAMll41ai"
   },
   "source": [
    "## column to image"
   ]
  },
  {
   "cell_type": "code",
   "execution_count": 4,
   "metadata": {
    "colab": {},
    "colab_type": "code",
    "id": "sEg1ZgGH41aj"
   },
   "outputs": [],
   "source": [
    "# ２次元配列を画像データに変換\n",
    "def col2im(col, input_shape, filter_h, filter_w, stride=1, pad=0):\n",
    "    # N: number, C: channel, H: height, W: width\n",
    "    N, C, H, W = input_shape\n",
    "    # 切り捨て除算    \n",
    "    out_h = (H + 2 * pad - filter_h)//stride + 1\n",
    "    out_w = (W + 2 * pad - filter_w)//stride + 1\n",
    "    col = col.reshape(N, out_h, out_w, C, filter_h, filter_w).transpose(0, 3, 4, 5, 1, 2) # (N, filter_h, filter_w, out_h, out_w, C)\n",
    "\n",
    "    img = np.zeros((N, C, H + 2 * pad + stride - 1, W + 2 * pad + stride - 1))\n",
    "    for y in range(filter_h):\n",
    "        y_max = y + stride * out_h\n",
    "        for x in range(filter_w):\n",
    "            x_max = x + stride * out_w\n",
    "            img[:, :, y:y_max:stride, x:x_max:stride] += col[:, :, y, x, :, :]\n",
    "\n",
    "    return img[:, :, pad:H + pad, pad:W + pad]"
   ]
  },
  {
   "cell_type": "markdown",
   "metadata": {
    "colab_type": "text",
    "id": "WxIB8_ij41al"
   },
   "source": [
    "## col2imの処理を確認しよう\n",
    "・im2colの確認で出力したcolをimageに変換して確認しよう"
   ]
  },
  {
   "cell_type": "code",
   "execution_count": 6,
   "metadata": {
    "colab": {},
    "colab_type": "code",
    "id": "oWlAPpX_41am"
   },
   "outputs": [],
   "source": [
    "col = im2col(input_data, filter_h=filter_h, filter_w=filter_w, stride=stride, pad=pad)\n",
    "image = col2im(col, input_data.shape, filter_h, filter_w, stride=1, pad=1)"
   ]
  },
  {
   "cell_type": "code",
   "execution_count": 12,
   "metadata": {},
   "outputs": [
    {
     "data": {
      "text/plain": [
       "array([[[[214.,   2.,  91., 159.],\n",
       "         [103., 214.,   4., 107.],\n",
       "         [130., 176., 241.,  46.],\n",
       "         [132., 108.,  88., 241.]]],\n",
       "\n",
       "\n",
       "       [[[ 39.,  10., 203., 182.],\n",
       "         [191.,  39.,  20., 292.],\n",
       "         [186., 194., 121.,  86.],\n",
       "         [100., 154.,  97., 121.]]]])"
      ]
     },
     "execution_count": 12,
     "metadata": {},
     "output_type": "execute_result"
    }
   ],
   "source": [
    "image"
   ]
  },
  {
   "cell_type": "markdown",
   "metadata": {
    "colab_type": "text",
    "id": "c6A1wrTW41ao"
   },
   "source": [
    "## convolution class"
   ]
  },
  {
   "cell_type": "code",
   "execution_count": 7,
   "metadata": {
    "colab": {},
    "colab_type": "code",
    "id": "V48pgjoe41ap"
   },
   "outputs": [],
   "source": [
    "class Convolution:\n",
    "    # W: フィルター, b: バイアス\n",
    "    def __init__(self, W, b, stride=1, pad=0):\n",
    "        self.W = W\n",
    "        self.b = b\n",
    "        self.stride = stride\n",
    "        self.pad = pad\n",
    "        \n",
    "        # 中間データ（backward時に使用）\n",
    "        self.x = None   \n",
    "        self.col = None\n",
    "        self.col_W = None\n",
    "        \n",
    "        # フィルター・バイアスパラメータの勾配\n",
    "        self.dW = None\n",
    "        self.db = None\n",
    "\n",
    "    def forward(self, x):\n",
    "        # FN: filter_number, C: channel, FH: filter_height, FW: filter_width\n",
    "        FN, C, FH, FW = self.W.shape\n",
    "        N, C, H, W = x.shape\n",
    "        # 出力値のheight, width\n",
    "        out_h = 1 + int((H + 2 * self.pad - FH) / self.stride)\n",
    "        out_w = 1 + int((W + 2 * self.pad - FW) / self.stride)\n",
    "        \n",
    "        # xを行列に変換\n",
    "        col = im2col(x, FH, FW, self.stride, self.pad)\n",
    "        # フィルターをxに合わせた行列に変換\n",
    "        col_W = self.W.reshape(FN, -1).T\n",
    "\n",
    "        out = np.dot(col, col_W) + self.b\n",
    "        # 計算のために変えた形式を戻す\n",
    "        out = out.reshape(N, out_h, out_w, -1).transpose(0, 3, 1, 2)\n",
    "\n",
    "        self.x = x\n",
    "        self.col = col\n",
    "        self.col_W = col_W\n",
    "\n",
    "        return out\n",
    "\n",
    "    def backward(self, dout):\n",
    "        FN, C, FH, FW = self.W.shape\n",
    "        dout = dout.transpose(0, 2, 3, 1).reshape(-1, FN)\n",
    "\n",
    "        self.db = np.sum(dout, axis=0)\n",
    "        self.dW = np.dot(self.col.T, dout)\n",
    "        self.dW = self.dW.transpose(1, 0).reshape(FN, C, FH, FW)\n",
    "\n",
    "        dcol = np.dot(dout, self.col_W.T)\n",
    "        # dcolを画像データに変換\n",
    "        dx = col2im(dcol, self.x.shape, FH, FW, self.stride, self.pad)\n",
    "\n",
    "        return dx\n"
   ]
  },
  {
   "cell_type": "markdown",
   "metadata": {
    "colab_type": "text",
    "id": "ajeATc1r41ar"
   },
   "source": [
    "## pooling class"
   ]
  },
  {
   "cell_type": "code",
   "execution_count": 8,
   "metadata": {
    "colab": {},
    "colab_type": "code",
    "id": "ohjf8L6d41as"
   },
   "outputs": [],
   "source": [
    "class Pooling:\n",
    "    def __init__(self, pool_h, pool_w, stride=1, pad=0):\n",
    "        self.pool_h = pool_h\n",
    "        self.pool_w = pool_w\n",
    "        self.stride = stride\n",
    "        self.pad = pad\n",
    "        \n",
    "        self.x = None\n",
    "        self.arg_max = None\n",
    "\n",
    "    def forward(self, x):\n",
    "        N, C, H, W = x.shape\n",
    "        out_h = int(1 + (H - self.pool_h) / self.stride)\n",
    "        out_w = int(1 + (W - self.pool_w) / self.stride)\n",
    "        \n",
    "        # xを行列に変換\n",
    "        col = im2col(x, self.pool_h, self.pool_w, self.stride, self.pad)\n",
    "        # プーリングのサイズに合わせてリサイズ\n",
    "        col = col.reshape(-1, self.pool_h*self.pool_w)\n",
    "        \n",
    "        # 行ごとに最大値を求める\n",
    "        arg_max = np.argmax(col, axis=1)\n",
    "        out = np.max(col, axis=1)\n",
    "        # 整形\n",
    "        out = out.reshape(N, out_h, out_w, C).transpose(0, 3, 1, 2)\n",
    "\n",
    "        self.x = x\n",
    "        self.arg_max = arg_max\n",
    "\n",
    "        return out\n",
    "\n",
    "    def backward(self, dout):\n",
    "        dout = dout.transpose(0, 2, 3, 1)\n",
    "        \n",
    "        pool_size = self.pool_h * self.pool_w\n",
    "        dmax = np.zeros((dout.size, pool_size))\n",
    "        dmax[np.arange(self.arg_max.size), self.arg_max.flatten()] = dout.flatten()\n",
    "        dmax = dmax.reshape(dout.shape + (pool_size,)) \n",
    "        \n",
    "        dcol = dmax.reshape(dmax.shape[0] * dmax.shape[1] * dmax.shape[2], -1)\n",
    "        dx = col2im(dcol, self.x.shape, self.pool_h, self.pool_w, self.stride, self.pad)\n",
    "        \n",
    "        return dx\n"
   ]
  },
  {
   "cell_type": "markdown",
   "metadata": {
    "colab_type": "text",
    "id": "R_4EiODW41av"
   },
   "source": [
    "## sinple convolution network class"
   ]
  },
  {
   "cell_type": "code",
   "execution_count": 9,
   "metadata": {
    "colab": {},
    "colab_type": "code",
    "id": "Bjvis0sV41aw"
   },
   "outputs": [],
   "source": [
    "class SimpleConvNet:\n",
    "    # conv - relu - pool - affine - relu - affine - softmax\n",
    "    def __init__(self, input_dim=(1, 28, 28), conv_param={'filter_num':30, 'filter_size':5, 'pad':0, 'stride':1},\n",
    "                 hidden_size=100, output_size=10, weight_init_std=0.01):\n",
    "        filter_num = conv_param['filter_num']        \n",
    "        filter_size = conv_param['filter_size']\n",
    "        filter_pad = conv_param['pad']\n",
    "        filter_stride = conv_param['stride']\n",
    "        input_size = input_dim[1]\n",
    "        conv_output_size = (input_size - filter_size + 2 * filter_pad) / filter_stride + 1\n",
    "        pool_output_size = int(filter_num * (conv_output_size / 2) * (conv_output_size / 2))\n",
    "\n",
    "        # 重みの初期化\n",
    "        self.params = {}\n",
    "        self.params['W1'] = weight_init_std * np.random.randn(filter_num, input_dim[0], filter_size, filter_size)\n",
    "        self.params['b1'] = np.zeros(filter_num)\n",
    "        self.params['W2'] = weight_init_std * np.random.randn(pool_output_size, hidden_size)\n",
    "        self.params['b2'] = np.zeros(hidden_size)\n",
    "        self.params['W3'] = weight_init_std * np.random.randn(hidden_size, output_size)\n",
    "        self.params['b3'] = np.zeros(output_size)\n",
    "\n",
    "        # レイヤの生成\n",
    "        self.layers = OrderedDict()\n",
    "        self.layers['Conv1'] = layers.Convolution(self.params['W1'], self.params['b1'], conv_param['stride'], conv_param['pad'])\n",
    "        self.layers['Relu1'] = layers.Relu()\n",
    "        self.layers['Pool1'] = layers.Pooling(pool_h=2, pool_w=2, stride=2)\n",
    "        self.layers['Affine1'] = layers.Affine(self.params['W2'], self.params['b2'])\n",
    "        self.layers['Relu2'] = layers.Relu()\n",
    "        self.layers['Affine2'] = layers.Affine(self.params['W3'], self.params['b3'])\n",
    "\n",
    "        self.last_layer = layers.SoftmaxWithLoss()\n",
    "\n",
    "    def predict(self, x):\n",
    "        for key in self.layers.keys():\n",
    "            x = self.layers[key].forward(x)\n",
    "        return x\n",
    "        \n",
    "    def loss(self, x, d):\n",
    "        y = self.predict(x)\n",
    "        return self.last_layer.forward(y, d)\n",
    "\n",
    "    def accuracy(self, x, d, batch_size=100):\n",
    "        if d.ndim != 1 : d = np.argmax(d, axis=1)\n",
    "        \n",
    "        acc = 0.0\n",
    "        \n",
    "        for i in range(int(x.shape[0] / batch_size)):\n",
    "            tx = x[i*batch_size:(i+1)*batch_size]\n",
    "            td = d[i*batch_size:(i+1)*batch_size]\n",
    "            y = self.predict(tx)\n",
    "            y = np.argmax(y, axis=1)\n",
    "            acc += np.sum(y == td) \n",
    "        \n",
    "        return acc / x.shape[0]\n",
    "\n",
    "    def gradient(self, x, d):\n",
    "        # forward\n",
    "        self.loss(x, d)\n",
    "        \n",
    "        # backward\n",
    "        dout = 1\n",
    "        dout = self.last_layer.backward(dout)\n",
    "        layers = list(self.layers.values())\n",
    "        \n",
    "        layers.reverse()\n",
    "        for layer in layers:\n",
    "            dout = layer.backward(dout)\n",
    "\n",
    "        # 設定\n",
    "        grad = {}\n",
    "        grad['W1'], grad['b1'] = self.layers['Conv1'].dW, self.layers['Conv1'].db\n",
    "        grad['W2'], grad['b2'] = self.layers['Affine1'].dW, self.layers['Affine1'].db\n",
    "        grad['W3'], grad['b3'] = self.layers['Affine2'].dW, self.layers['Affine2'].db\n",
    "\n",
    "        return grad"
   ]
  },
  {
   "cell_type": "code",
   "execution_count": 11,
   "metadata": {
    "colab": {
     "base_uri": "https://localhost:8080/",
     "height": 1000
    },
    "colab_type": "code",
    "executionInfo": {
     "elapsed": 722360,
     "status": "ok",
     "timestamp": 1567225883420,
     "user": {
      "displayName": "Fumitaro GOTO",
      "photoUrl": "https://lh3.googleusercontent.com/a-/AAuE7mAubrhEDJVP-rnoha-qvz9ByB1M60D47F3l4Mpr=s64",
      "userId": "04811870787810218771"
     },
     "user_tz": -540
    },
    "id": "UontjUaA41ay",
    "outputId": "c55f3912-166f-4974-a07e-61c52716dffb",
    "scrolled": false
   },
   "outputs": [
    {
     "name": "stdout",
     "output_type": "stream",
     "text": [
      "データ読み込み完了\n",
      "Generation: 10. 正答率(トレーニング) = 0.5144\n",
      "                : 10. 正答率(テスト) = 0.532\n",
      "Generation: 20. 正答率(トレーニング) = 0.6386\n",
      "                : 20. 正答率(テスト) = 0.616\n",
      "Generation: 30. 正答率(トレーニング) = 0.749\n",
      "                : 30. 正答率(テスト) = 0.713\n",
      "Generation: 40. 正答率(トレーニング) = 0.8088\n",
      "                : 40. 正答率(テスト) = 0.78\n",
      "Generation: 50. 正答率(トレーニング) = 0.8226\n",
      "                : 50. 正答率(テスト) = 0.795\n",
      "Generation: 60. 正答率(トレーニング) = 0.841\n",
      "                : 60. 正答率(テスト) = 0.83\n",
      "Generation: 70. 正答率(トレーニング) = 0.8778\n",
      "                : 70. 正答率(テスト) = 0.843\n",
      "Generation: 80. 正答率(トレーニング) = 0.876\n",
      "                : 80. 正答率(テスト) = 0.858\n",
      "Generation: 90. 正答率(トレーニング) = 0.8814\n",
      "                : 90. 正答率(テスト) = 0.855\n",
      "Generation: 100. 正答率(トレーニング) = 0.882\n",
      "                : 100. 正答率(テスト) = 0.865\n",
      "Generation: 110. 正答率(トレーニング) = 0.9018\n",
      "                : 110. 正答率(テスト) = 0.874\n",
      "Generation: 120. 正答率(トレーニング) = 0.9106\n",
      "                : 120. 正答率(テスト) = 0.874\n",
      "Generation: 130. 正答率(トレーニング) = 0.9096\n",
      "                : 130. 正答率(テスト) = 0.877\n",
      "Generation: 140. 正答率(トレーニング) = 0.915\n",
      "                : 140. 正答率(テスト) = 0.871\n",
      "Generation: 150. 正答率(トレーニング) = 0.913\n",
      "                : 150. 正答率(テスト) = 0.89\n",
      "Generation: 160. 正答率(トレーニング) = 0.9222\n",
      "                : 160. 正答率(テスト) = 0.894\n",
      "Generation: 170. 正答率(トレーニング) = 0.922\n",
      "                : 170. 正答率(テスト) = 0.896\n",
      "Generation: 180. 正答率(トレーニング) = 0.9238\n",
      "                : 180. 正答率(テスト) = 0.897\n",
      "Generation: 190. 正答率(トレーニング) = 0.9104\n",
      "                : 190. 正答率(テスト) = 0.889\n",
      "Generation: 200. 正答率(トレーニング) = 0.9298\n",
      "                : 200. 正答率(テスト) = 0.891\n",
      "Generation: 210. 正答率(トレーニング) = 0.9296\n",
      "                : 210. 正答率(テスト) = 0.907\n",
      "Generation: 220. 正答率(トレーニング) = 0.9382\n",
      "                : 220. 正答率(テスト) = 0.905\n",
      "Generation: 230. 正答率(トレーニング) = 0.9372\n",
      "                : 230. 正答率(テスト) = 0.897\n",
      "Generation: 240. 正答率(トレーニング) = 0.9326\n",
      "                : 240. 正答率(テスト) = 0.903\n",
      "Generation: 250. 正答率(トレーニング) = 0.932\n",
      "                : 250. 正答率(テスト) = 0.905\n",
      "Generation: 260. 正答率(トレーニング) = 0.9312\n",
      "                : 260. 正答率(テスト) = 0.898\n",
      "Generation: 270. 正答率(トレーニング) = 0.9434\n",
      "                : 270. 正答率(テスト) = 0.909\n",
      "Generation: 280. 正答率(トレーニング) = 0.9462\n",
      "                : 280. 正答率(テスト) = 0.918\n",
      "Generation: 290. 正答率(トレーニング) = 0.9488\n",
      "                : 290. 正答率(テスト) = 0.928\n",
      "Generation: 300. 正答率(トレーニング) = 0.952\n",
      "                : 300. 正答率(テスト) = 0.918\n",
      "Generation: 310. 正答率(トレーニング) = 0.9452\n",
      "                : 310. 正答率(テスト) = 0.919\n",
      "Generation: 320. 正答率(トレーニング) = 0.9522\n",
      "                : 320. 正答率(テスト) = 0.925\n",
      "Generation: 330. 正答率(トレーニング) = 0.9538\n",
      "                : 330. 正答率(テスト) = 0.915\n",
      "Generation: 340. 正答率(トレーニング) = 0.9468\n",
      "                : 340. 正答率(テスト) = 0.911\n",
      "Generation: 350. 正答率(トレーニング) = 0.9414\n",
      "                : 350. 正答率(テスト) = 0.906\n",
      "Generation: 360. 正答率(トレーニング) = 0.9566\n",
      "                : 360. 正答率(テスト) = 0.923\n",
      "Generation: 370. 正答率(トレーニング) = 0.9636\n",
      "                : 370. 正答率(テスト) = 0.934\n",
      "Generation: 380. 正答率(トレーニング) = 0.9666\n",
      "                : 380. 正答率(テスト) = 0.932\n",
      "Generation: 390. 正答率(トレーニング) = 0.9614\n",
      "                : 390. 正答率(テスト) = 0.933\n",
      "Generation: 400. 正答率(トレーニング) = 0.97\n",
      "                : 400. 正答率(テスト) = 0.934\n",
      "Generation: 410. 正答率(トレーニング) = 0.9628\n",
      "                : 410. 正答率(テスト) = 0.928\n",
      "Generation: 420. 正答率(トレーニング) = 0.9716\n",
      "                : 420. 正答率(テスト) = 0.941\n",
      "Generation: 430. 正答率(トレーニング) = 0.973\n",
      "                : 430. 正答率(テスト) = 0.938\n",
      "Generation: 440. 正答率(トレーニング) = 0.972\n",
      "                : 440. 正答率(テスト) = 0.937\n",
      "Generation: 450. 正答率(トレーニング) = 0.9756\n",
      "                : 450. 正答率(テスト) = 0.942\n",
      "Generation: 460. 正答率(トレーニング) = 0.97\n",
      "                : 460. 正答率(テスト) = 0.933\n",
      "Generation: 470. 正答率(トレーニング) = 0.971\n",
      "                : 470. 正答率(テスト) = 0.938\n",
      "Generation: 480. 正答率(トレーニング) = 0.9726\n",
      "                : 480. 正答率(テスト) = 0.942\n",
      "Generation: 490. 正答率(トレーニング) = 0.974\n",
      "                : 490. 正答率(テスト) = 0.939\n",
      "Generation: 500. 正答率(トレーニング) = 0.9738\n",
      "                : 500. 正答率(テスト) = 0.946\n",
      "Generation: 510. 正答率(トレーニング) = 0.9704\n",
      "                : 510. 正答率(テスト) = 0.943\n",
      "Generation: 520. 正答率(トレーニング) = 0.978\n",
      "                : 520. 正答率(テスト) = 0.95\n",
      "Generation: 530. 正答率(トレーニング) = 0.9808\n",
      "                : 530. 正答率(テスト) = 0.945\n",
      "Generation: 540. 正答率(トレーニング) = 0.9768\n",
      "                : 540. 正答率(テスト) = 0.939\n",
      "Generation: 550. 正答率(トレーニング) = 0.982\n",
      "                : 550. 正答率(テスト) = 0.944\n",
      "Generation: 560. 正答率(トレーニング) = 0.9762\n",
      "                : 560. 正答率(テスト) = 0.936\n",
      "Generation: 570. 正答率(トレーニング) = 0.9784\n",
      "                : 570. 正答率(テスト) = 0.945\n",
      "Generation: 580. 正答率(トレーニング) = 0.9816\n",
      "                : 580. 正答率(テスト) = 0.95\n",
      "Generation: 590. 正答率(トレーニング) = 0.9778\n",
      "                : 590. 正答率(テスト) = 0.943\n",
      "Generation: 600. 正答率(トレーニング) = 0.9832\n",
      "                : 600. 正答率(テスト) = 0.953\n",
      "Generation: 610. 正答率(トレーニング) = 0.9826\n",
      "                : 610. 正答率(テスト) = 0.954\n",
      "Generation: 620. 正答率(トレーニング) = 0.9848\n",
      "                : 620. 正答率(テスト) = 0.954\n",
      "Generation: 630. 正答率(トレーニング) = 0.9852\n",
      "                : 630. 正答率(テスト) = 0.959\n",
      "Generation: 640. 正答率(トレーニング) = 0.986\n",
      "                : 640. 正答率(テスト) = 0.957\n",
      "Generation: 650. 正答率(トレーニング) = 0.9844\n",
      "                : 650. 正答率(テスト) = 0.948\n",
      "Generation: 660. 正答率(トレーニング) = 0.982\n",
      "                : 660. 正答率(テスト) = 0.954\n",
      "Generation: 670. 正答率(トレーニング) = 0.9866\n",
      "                : 670. 正答率(テスト) = 0.956\n",
      "Generation: 680. 正答率(トレーニング) = 0.9882\n",
      "                : 680. 正答率(テスト) = 0.953\n",
      "Generation: 690. 正答率(トレーニング) = 0.9888\n",
      "                : 690. 正答率(テスト) = 0.957\n",
      "Generation: 700. 正答率(トレーニング) = 0.989\n",
      "                : 700. 正答率(テスト) = 0.958\n",
      "Generation: 710. 正答率(トレーニング) = 0.9886\n",
      "                : 710. 正答率(テスト) = 0.958\n",
      "Generation: 720. 正答率(トレーニング) = 0.991\n",
      "                : 720. 正答率(テスト) = 0.961\n",
      "Generation: 730. 正答率(トレーニング) = 0.9914\n",
      "                : 730. 正答率(テスト) = 0.961\n",
      "Generation: 740. 正答率(トレーニング) = 0.9894\n",
      "                : 740. 正答率(テスト) = 0.957\n",
      "Generation: 750. 正答率(トレーニング) = 0.9922\n",
      "                : 750. 正答率(テスト) = 0.959\n",
      "Generation: 760. 正答率(トレーニング) = 0.9912\n",
      "                : 760. 正答率(テスト) = 0.962\n",
      "Generation: 770. 正答率(トレーニング) = 0.9922\n",
      "                : 770. 正答率(テスト) = 0.963\n",
      "Generation: 780. 正答率(トレーニング) = 0.9916\n",
      "                : 780. 正答率(テスト) = 0.959\n",
      "Generation: 790. 正答率(トレーニング) = 0.9898\n",
      "                : 790. 正答率(テスト) = 0.95\n",
      "Generation: 800. 正答率(トレーニング) = 0.9904\n",
      "                : 800. 正答率(テスト) = 0.947\n",
      "Generation: 810. 正答率(トレーニング) = 0.99\n",
      "                : 810. 正答率(テスト) = 0.951\n",
      "Generation: 820. 正答率(トレーニング) = 0.9906\n",
      "                : 820. 正答率(テスト) = 0.953\n",
      "Generation: 830. 正答率(トレーニング) = 0.9942\n",
      "                : 830. 正答率(テスト) = 0.956\n",
      "Generation: 840. 正答率(トレーニング) = 0.9936\n",
      "                : 840. 正答率(テスト) = 0.961\n",
      "Generation: 850. 正答率(トレーニング) = 0.9946\n",
      "                : 850. 正答率(テスト) = 0.965\n",
      "Generation: 860. 正答率(トレーニング) = 0.9942\n",
      "                : 860. 正答率(テスト) = 0.961\n",
      "Generation: 870. 正答率(トレーニング) = 0.9936\n",
      "                : 870. 正答率(テスト) = 0.957\n",
      "Generation: 880. 正答率(トレーニング) = 0.9926\n",
      "                : 880. 正答率(テスト) = 0.96\n",
      "Generation: 890. 正答率(トレーニング) = 0.9924\n",
      "                : 890. 正答率(テスト) = 0.956\n",
      "Generation: 900. 正答率(トレーニング) = 0.9934\n",
      "                : 900. 正答率(テスト) = 0.963\n",
      "Generation: 910. 正答率(トレーニング) = 0.9934\n",
      "                : 910. 正答率(テスト) = 0.958\n",
      "Generation: 920. 正答率(トレーニング) = 0.9886\n",
      "                : 920. 正答率(テスト) = 0.955\n",
      "Generation: 930. 正答率(トレーニング) = 0.9942\n",
      "                : 930. 正答率(テスト) = 0.959\n",
      "Generation: 940. 正答率(トレーニング) = 0.9956\n",
      "                : 940. 正答率(テスト) = 0.96\n",
      "Generation: 950. 正答率(トレーニング) = 0.9964\n",
      "                : 950. 正答率(テスト) = 0.961\n",
      "Generation: 960. 正答率(トレーニング) = 0.996\n",
      "                : 960. 正答率(テスト) = 0.959\n",
      "Generation: 970. 正答率(トレーニング) = 0.996\n",
      "                : 970. 正答率(テスト) = 0.958\n",
      "Generation: 980. 正答率(トレーニング) = 0.995\n",
      "                : 980. 正答率(テスト) = 0.959\n",
      "Generation: 990. 正答率(トレーニング) = 0.9966\n",
      "                : 990. 正答率(テスト) = 0.961\n",
      "Generation: 1000. 正答率(トレーニング) = 0.9958\n",
      "                : 1000. 正答率(テスト) = 0.958\n"
     ]
    },
    {
     "data": {
      "image/png": "[encoded data removed]",
      "text/plain": [
       "<Figure size 432x288 with 1 Axes>"
      ]
     },
     "metadata": {
      "needs_background": "light"
     },
     "output_type": "display_data"
    }
   ],
   "source": [
    "#from common import optimizer\n",
    "import optimizer\n",
    "\n",
    "# データの読み込み\n",
    "(x_train, d_train), (x_test, d_test) = load_mnist(flatten=False)\n",
    "\n",
    "print(\"データ読み込み完了\")\n",
    "\n",
    "# 処理に時間のかかる場合はデータを削減 \n",
    "x_train, d_train = x_train[:5000], d_train[:5000]\n",
    "x_test, d_test = x_test[:1000], d_test[:1000]\n",
    "\n",
    "\n",
    "network = SimpleConvNet(input_dim=(1,28,28), conv_param = {'filter_num': 30, 'filter_size': 5, 'pad': 0, 'stride': 1},\n",
    "                        hidden_size=100, output_size=10, weight_init_std=0.01)\n",
    "\n",
    "optimizer = optimizer.Adam()\n",
    "\n",
    "iters_num = 1000\n",
    "train_size = x_train.shape[0]\n",
    "batch_size = 100\n",
    "\n",
    "train_loss_list = []\n",
    "accuracies_train = []\n",
    "accuracies_test = []\n",
    "\n",
    "plot_interval=10\n",
    "\n",
    "\n",
    "\n",
    "for i in range(iters_num):\n",
    "    batch_mask = np.random.choice(train_size, batch_size)\n",
    "    x_batch = x_train[batch_mask]\n",
    "    d_batch = d_train[batch_mask]\n",
    "    \n",
    "    grad = network.gradient(x_batch, d_batch)\n",
    "    optimizer.update(network.params, grad)\n",
    "\n",
    "    loss = network.loss(x_batch, d_batch)\n",
    "    train_loss_list.append(loss)\n",
    "\n",
    "    if (i+1) % plot_interval == 0:\n",
    "        accr_train = network.accuracy(x_train, d_train)\n",
    "        accr_test = network.accuracy(x_test, d_test)\n",
    "        accuracies_train.append(accr_train)\n",
    "        accuracies_test.append(accr_test)\n",
    "        \n",
    "        print('Generation: ' + str(i+1) + '. 正答率(トレーニング) = ' + str(accr_train))\n",
    "        print('                : ' + str(i+1) + '. 正答率(テスト) = ' + str(accr_test))               \n",
    "\n",
    "lists = range(0, iters_num, plot_interval)\n",
    "plt.plot(lists, accuracies_train, label=\"training set\")\n",
    "plt.plot(lists, accuracies_test,  label=\"test set\")\n",
    "plt.legend(loc=\"lower right\")\n",
    "plt.title(\"accuracy\")\n",
    "plt.xlabel(\"count\")\n",
    "plt.ylabel(\"accuracy\")\n",
    "plt.ylim(0, 1.0)\n",
    "# グラフの表示\n",
    "plt.show()"
   ]
  },
  {
   "cell_type": "code",
   "execution_count": null,
   "metadata": {
    "colab": {},
    "colab_type": "code",
    "id": "s73PJTtv41a2"
   },
   "outputs": [],
   "source": []
  },
  {
   "cell_type": "code",
   "execution_count": null,
   "metadata": {
    "colab": {},
    "colab_type": "code",
    "id": "IAtAWIrk41a4"
   },
   "outputs": [],
   "source": []
  },
  {
   "cell_type": "code",
   "execution_count": null,
   "metadata": {
    "colab": {},
    "colab_type": "code",
    "id": "uUsVD5ef41a6"
   },
   "outputs": [],
   "source": []
  }
 ],
 "metadata": {
  "accelerator": "GPU",
  "colab": {
   "collapsed_sections": [],
   "name": "2_6_simple_convolution_network.ipynb",
   "provenance": [],
   "toc_visible": true,
   "version": "0.3.2"
  },
  "kernelspec": {
   "display_name": "Python 3",
   "language": "python",
   "name": "python3"
  },
  "language_info": {
   "codemirror_mode": {
    "name": "ipython",
    "version": 3
   },
   "file_extension": ".py",
   "mimetype": "text/x-python",
   "name": "python",
   "nbconvert_exporter": "python",
   "pygments_lexer": "ipython3",
   "version": "3.6.9"
  }
 },
 "nbformat": 4,
 "nbformat_minor": 1
}
